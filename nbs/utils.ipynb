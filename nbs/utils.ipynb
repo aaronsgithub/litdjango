{
 "cells": [
  {
   "attachments": {},
   "cell_type": "markdown",
   "metadata": {},
   "source": [
    "# Utils\n",
    "\n",
    "> Utility functions etc."
   ]
  },
  {
   "cell_type": "code",
   "execution_count": null,
   "metadata": {},
   "outputs": [],
   "source": [
    "#|default_exp utils"
   ]
  },
  {
   "cell_type": "code",
   "execution_count": null,
   "metadata": {},
   "outputs": [],
   "source": [
    "#|export\n",
    "import json\n",
    "from pathlib import Path\n",
    "\n",
    "from nbdev.config import get_config"
   ]
  },
  {
   "cell_type": "code",
   "execution_count": null,
   "metadata": {},
   "outputs": [],
   "source": [
    "#|exporti\n",
    "cfg = get_config()\n",
    "\n",
    "def get_litdjango_root():\n",
    "    try:\n",
    "        LITDJANGO_ROOT = Path(__file__).parent.parent\n",
    "    except NameError as e:\n",
    "        if \"get_ipython\" in globals():\n",
    "            LITDJANGO_ROOT = cfg.config_path\n",
    "        else:\n",
    "            raise e\n",
    "    return LITDJANGO_ROOT"
   ]
  },
  {
   "cell_type": "code",
   "execution_count": null,
   "metadata": {},
   "outputs": [],
   "source": [
    "#|export\n",
    "LITDJANGO_ROOT = get_litdjango_root()"
   ]
  },
  {
   "cell_type": "code",
   "execution_count": null,
   "metadata": {},
   "outputs": [],
   "source": [
    "#|export\n",
    "def print_notebook_contents(contents):\n",
    "    \"\"\"Useful for printing notebook contents to stdout\"\"\"\n",
    "    data = json.loads(contents)\n",
    "    \n",
    "    for n, cell in enumerate(data['cells']):\n",
    "        print(\n",
    "            f\"\\n\"\n",
    "             \"# -----------------------------\\n\"\n",
    "            f\"# cell no:{n}\\n\"\n",
    "            f\"# cell type:{cell['cell_type']}\\n\"\n",
    "             \"# -----------------------------\"\n",
    "        )\n",
    "        for line in cell['source']:\n",
    "            print(line, end='')"
   ]
  }
 ],
 "metadata": {
  "kernelspec": {
   "display_name": "python3",
   "language": "python",
   "name": "python3"
  }
 },
 "nbformat": 4,
 "nbformat_minor": 2
}
