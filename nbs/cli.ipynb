{
 "cells": [
  {
   "attachments": {},
   "cell_type": "markdown",
   "metadata": {},
   "source": [
    "# The litdjango CLI"
   ]
  },
  {
   "attachments": {},
   "cell_type": "markdown",
   "metadata": {},
   "source": [
    "\n",
    "In order to adapt Django to a literate programming style using Jupyter notebooks, we need to\n",
    "reimplement any builtin `django-admin` and `manage.py` cli commands which produce `.py` modules\n",
    "into commands which produce `.ipynb` files."
   ]
  },
  {
   "cell_type": "code",
   "execution_count": null,
   "metadata": {},
   "outputs": [],
   "source": [
    "#| default_exp cli"
   ]
  },
  {
   "cell_type": "code",
   "execution_count": null,
   "metadata": {},
   "outputs": [],
   "source": [
    "#| hide\n",
    "from nbdev.showdoc import *"
   ]
  },
  {
   "cell_type": "code",
   "execution_count": null,
   "metadata": {},
   "outputs": [],
   "source": [
    "#| export\n",
    "from collections import defaultdict\n",
    "import importlib\n",
    "import os\n",
    "from pathlib import Path\n",
    "import sys\n",
    "\n",
    "from django.core.management import ManagementUtility, execute_from_command_line, get_commands\n",
    "from django.core.management.base import BaseCommand\n",
    "from django.core.management.color import color_style\n",
    "from django.core.management.commands.startapp import Command as StartApp\n",
    "from django.core.management.commands.startproject import Command as StartProject\n",
    "\n",
    "from litdjango.utils import LITDJANGO_ROOT"
   ]
  },
  {
   "attachments": {},
   "cell_type": "markdown",
   "metadata": {},
   "source": [
    "## Subcommands"
   ]
  },
  {
   "cell_type": "code",
   "execution_count": null,
   "metadata": {},
   "outputs": [],
   "source": [
    "#| export\n",
    "class StartProject(StartProject):\n",
    "\n",
    "    rewrite_template_suffixes = (('.py-tpl', '.py'), (('.ipynb-tpl', '.ipynb')))\n",
    "\n",
    "    def handle(self, **options):\n",
    "        options[\"template\"] = str(LITDJANGO_ROOT / \"templates\" / \"project_template\")\n",
    "        options[\"extensions\"] = ['py', 'txt', 'ipynb']\n",
    "        super().handle(**options)"
   ]
  },
  {
   "cell_type": "code",
   "execution_count": null,
   "metadata": {},
   "outputs": [
    {
     "data": {
      "text/plain": [
       "(__main__.StartProject,\n",
       " django.core.management.commands.startproject.Command,\n",
       " django.core.management.templates.TemplateCommand,\n",
       " django.core.management.base.BaseCommand,\n",
       " object)"
      ]
     },
     "execution_count": null,
     "metadata": {},
     "output_type": "execute_result"
    }
   ],
   "source": [
    "StartProject.__mro__"
   ]
  },
  {
   "cell_type": "code",
   "execution_count": null,
   "metadata": {},
   "outputs": [],
   "source": [
    "#| export\n",
    "class Export(BaseCommand):\n",
    "    help = \"Export .ipynb notebooks to .py modules\"\n",
    "    \n",
    "    def handle(self, *args, **options):\n",
    "        self.stdout.write(\"Exporting...\")"
   ]
  },
  {
   "cell_type": "code",
   "execution_count": null,
   "metadata": {},
   "outputs": [],
   "source": [
    "#| export\n",
    "class StartApp(StartApp):\n",
    "    pass"
   ]
  },
  {
   "attachments": {},
   "cell_type": "markdown",
   "metadata": {},
   "source": [
    "## Register subcommands with the cli"
   ]
  },
  {
   "cell_type": "code",
   "execution_count": null,
   "metadata": {},
   "outputs": [],
   "source": [
    "#| exporti\n",
    "lit_commands = {\n",
    "    \"startapp\": StartApp(), # overrides django default\n",
    "    \"export\": Export(), # new command\n",
    "    \"startproject\": StartProject() #overrides django default\n",
    "}"
   ]
  },
  {
   "cell_type": "code",
   "execution_count": null,
   "metadata": {},
   "outputs": [],
   "source": [
    "#| export\n",
    "class LitManagementUtility(ManagementUtility):\n",
    "    \"\"\"The litdjango cli is an instance of this class\n",
    "    \n",
    "    We use the lit_commands dict as a container for new litdjango commands, or \n",
    "    overridden django commands, and fallback to the default django command for anything\n",
    "    else.\n",
    "    \"\"\"\n",
    "    def __init__(self, argv=None):\n",
    "        super().__init__(argv)\n",
    "        \n",
    "    def main_help_text(self, commands_only=False):\n",
    "        \"\"\"Return the script's main help text, as a string.\"\"\"\n",
    "        if commands_only:\n",
    "            usage = sorted(set(get_commands()) | set(lit_commands))  # overwrite django\n",
    "        else:\n",
    "            usage = [\n",
    "                \"\",\n",
    "                \"Type '%s help <subcommand>' for help on a specific subcommand.\" % self.prog_name,\n",
    "                \"\",\n",
    "                \"Available subcommands:\",           \n",
    "                ]\n",
    "            commands_dict = defaultdict(lambda: []) \n",
    "            commands_dict[\"litdjango\"] = sorted(lit_commands.keys())\n",
    "            for name, app in get_commands().items():\n",
    "                if app == \"django.core\":\n",
    "                    if name in lit_commands.keys():\n",
    "                        continue\n",
    "                    else:\n",
    "                        app = \"django\"\n",
    "                else:\n",
    "                    app = app.rpartition(\".\")[-1]\n",
    "                commands_dict[app].append(name)\n",
    "            style = color_style()\n",
    "            for app in sorted(commands_dict):\n",
    "                usage.append(\"\")\n",
    "                usage.append(style.NOTICE(\"[%s]\" % app))\n",
    "                for name in sorted(commands_dict[app]):\n",
    "                    usage.append(\"    %s\" % name)\n",
    "            # Output an extra note if settings are not properly configured\n",
    "            if self.settings_exception is not None:\n",
    "                usage.append(\n",
    "                    style.NOTICE(\n",
    "                        \"Note that only Django core commands are listed \"\n",
    "                        \"as settings are not properly configured (error: %s).\"\n",
    "                        % self.settings_exception\n",
    "                    )\n",
    "                )\n",
    "\n",
    "        return \"\\n\".join(usage)\n",
    "\n",
    "\n",
    "    def fetch_command(self, subcommand):\n",
    "        \"\"\"Use lit_commands version if it exists, otherwise fallback to django commands\"\"\"\n",
    "        try: # find a lit_command version of the command\n",
    "            return lit_commands[subcommand]\n",
    "        except KeyError:\n",
    "            # Fall back to default django  if we have not defined a custom command\n",
    "            return super().fetch_command(subcommand)"
   ]
  },
  {
   "cell_type": "code",
   "execution_count": null,
   "metadata": {},
   "outputs": [
    {
     "data": {
      "text/plain": [
       "['export', 'startapp', 'startproject']"
      ]
     },
     "execution_count": null,
     "metadata": {},
     "output_type": "execute_result"
    }
   ],
   "source": [
    "sorted(lit_commands.keys())"
   ]
  },
  {
   "cell_type": "code",
   "execution_count": null,
   "metadata": {},
   "outputs": [
    {
     "name": "stdout",
     "output_type": "stream",
     "text": [
      "django check\n",
      "django compilemessages\n",
      "django createcachetable\n",
      "django dbshell\n",
      "django diffsettings\n",
      "django dumpdata\n",
      "django flush\n",
      "django inspectdb\n",
      "django loaddata\n",
      "django makemessages\n",
      "django makemigrations\n",
      "django migrate\n",
      "django optimizemigration\n",
      "django runserver\n",
      "django sendtestemail\n",
      "django shell\n",
      "django showmigrations\n",
      "django sqlflush\n",
      "django sqlmigrate\n",
      "django sqlsequencereset\n",
      "django squashmigrations\n",
      "django test\n",
      "django testserver\n"
     ]
    },
    {
     "data": {
      "text/plain": [
       "defaultdict(<function __main__.<lambda>()>,\n",
       "            {'litdjango': ['export', 'startapp', 'startproject'],\n",
       "             'django': ['check',\n",
       "              'compilemessages',\n",
       "              'createcachetable',\n",
       "              'dbshell',\n",
       "              'diffsettings',\n",
       "              'dumpdata',\n",
       "              'flush',\n",
       "              'inspectdb',\n",
       "              'loaddata',\n",
       "              'makemessages',\n",
       "              'makemigrations',\n",
       "              'migrate',\n",
       "              'optimizemigration',\n",
       "              'runserver',\n",
       "              'sendtestemail',\n",
       "              'shell',\n",
       "              'showmigrations',\n",
       "              'sqlflush',\n",
       "              'sqlmigrate',\n",
       "              'sqlsequencereset',\n",
       "              'squashmigrations',\n",
       "              'test',\n",
       "              'testserver']})"
      ]
     },
     "execution_count": null,
     "metadata": {},
     "output_type": "execute_result"
    }
   ],
   "source": [
    "from django.core.management import get_commands\n",
    "\n",
    "sorted(set(get_commands()) | set(lit_commands))\n",
    "commands_dict = defaultdict(lambda: [])\n",
    "commands_dict[\"litdjango\"] = sorted(lit_commands.keys())\n",
    "for name, app in get_commands().items():\n",
    "    if app == \"django.core\":\n",
    "        if name in lit_commands.keys():\n",
    "            continue\n",
    "        app = \"django\"\n",
    "    else:\n",
    "        app = app.rpartition(\".\")[-1]\n",
    "    print(app, name)\n",
    "    commands_dict[app].append(name)\n",
    "\n"
   ]
  },
  {
   "cell_type": "code",
   "execution_count": null,
   "metadata": {},
   "outputs": [
    {
     "name": "stderr",
     "output_type": "stream",
     "text": [
      "No Django settings specified.\n",
      "Unknown command: '--ip=127.0.0.1'\n",
      "Type 'ipykernel_launcher.py help' for usage.\n"
     ]
    },
    {
     "ename": "AttributeError",
     "evalue": "'tuple' object has no attribute 'tb_frame'",
     "output_type": "error",
     "traceback": [
      "\u001b[0;31m---------------------------------------------------------------------------\u001b[0m",
      "\u001b[0;31mKeyError\u001b[0m                                  Traceback (most recent call last)",
      "Cell \u001b[0;32mIn[10], line 15\u001b[0m, in \u001b[0;36mLitManagementUtility.fetch_command\u001b[0;34m(self, subcommand)\u001b[0m\n\u001b[1;32m     14\u001b[0m \u001b[39mtry\u001b[39;00m: \u001b[39m# find a lit_command version of the command\u001b[39;00m\n\u001b[0;32m---> 15\u001b[0m     \u001b[39mreturn\u001b[39;00m lit_commands[subcommand]\n\u001b[1;32m     16\u001b[0m \u001b[39mexcept\u001b[39;00m \u001b[39mKeyError\u001b[39;00m:\n\u001b[1;32m     17\u001b[0m     \u001b[39m# Fall back to default django  if we have not defined a custom command\u001b[39;00m\n",
      "\u001b[0;31mKeyError\u001b[0m: '--ip=127.0.0.1'",
      "\nDuring handling of the above exception, another exception occurred:\n",
      "\u001b[0;31mKeyError\u001b[0m                                  Traceback (most recent call last)",
      "File \u001b[0;32m~/.pyenv/versions/3.10.9/envs/litdjango/lib/python3.10/site-packages/django/core/management/__init__.py:255\u001b[0m, in \u001b[0;36mManagementUtility.fetch_command\u001b[0;34m(self, subcommand)\u001b[0m\n\u001b[1;32m    254\u001b[0m \u001b[39mtry\u001b[39;00m:\n\u001b[0;32m--> 255\u001b[0m     app_name \u001b[39m=\u001b[39m commands[subcommand]\n\u001b[1;32m    256\u001b[0m \u001b[39mexcept\u001b[39;00m \u001b[39mKeyError\u001b[39;00m:\n",
      "\u001b[0;31mKeyError\u001b[0m: '--ip=127.0.0.1'",
      "\nDuring handling of the above exception, another exception occurred:\n",
      "\u001b[0;31mSystemExit\u001b[0m                                Traceback (most recent call last)",
      "    \u001b[0;31m[... skipping hidden 1 frame]\u001b[0m\n",
      "Cell \u001b[0;32mIn[11], line 7\u001b[0m\n\u001b[1;32m      5\u001b[0m     utility\u001b[39m.\u001b[39mexecute()\n\u001b[0;32m----> 7\u001b[0m cli()\n",
      "Cell \u001b[0;32mIn[11], line 5\u001b[0m, in \u001b[0;36mcli\u001b[0;34m()\u001b[0m\n\u001b[1;32m      4\u001b[0m utility \u001b[39m=\u001b[39m LitManagementUtility(sys\u001b[39m.\u001b[39margv)\n\u001b[0;32m----> 5\u001b[0m utility\u001b[39m.\u001b[39;49mexecute()\n",
      "File \u001b[0;32m~/.pyenv/versions/3.10.9/envs/litdjango/lib/python3.10/site-packages/django/core/management/__init__.py:436\u001b[0m, in \u001b[0;36mManagementUtility.execute\u001b[0;34m(self)\u001b[0m\n\u001b[1;32m    435\u001b[0m \u001b[39melse\u001b[39;00m:\n\u001b[0;32m--> 436\u001b[0m     \u001b[39mself\u001b[39;49m\u001b[39m.\u001b[39;49mfetch_command(subcommand)\u001b[39m.\u001b[39mrun_from_argv(\u001b[39mself\u001b[39m\u001b[39m.\u001b[39margv)\n",
      "Cell \u001b[0;32mIn[10], line 18\u001b[0m, in \u001b[0;36mLitManagementUtility.fetch_command\u001b[0;34m(self, subcommand)\u001b[0m\n\u001b[1;32m     16\u001b[0m \u001b[39mexcept\u001b[39;00m \u001b[39mKeyError\u001b[39;00m:\n\u001b[1;32m     17\u001b[0m     \u001b[39m# Fall back to default django  if we have not defined a custom command\u001b[39;00m\n\u001b[0;32m---> 18\u001b[0m     \u001b[39mreturn\u001b[39;00m \u001b[39msuper\u001b[39;49m()\u001b[39m.\u001b[39;49mfetch_command(subcommand)\n",
      "File \u001b[0;32m~/.pyenv/versions/3.10.9/envs/litdjango/lib/python3.10/site-packages/django/core/management/__init__.py:270\u001b[0m, in \u001b[0;36mManagementUtility.fetch_command\u001b[0;34m(self, subcommand)\u001b[0m\n\u001b[1;32m    269\u001b[0m     sys\u001b[39m.\u001b[39mstderr\u001b[39m.\u001b[39mwrite(\u001b[39m\"\u001b[39m\u001b[39m\\n\u001b[39;00m\u001b[39mType \u001b[39m\u001b[39m'\u001b[39m\u001b[39m%s\u001b[39;00m\u001b[39m help\u001b[39m\u001b[39m'\u001b[39m\u001b[39m for usage.\u001b[39m\u001b[39m\\n\u001b[39;00m\u001b[39m\"\u001b[39m \u001b[39m%\u001b[39m \u001b[39mself\u001b[39m\u001b[39m.\u001b[39mprog_name)\n\u001b[0;32m--> 270\u001b[0m     sys\u001b[39m.\u001b[39;49mexit(\u001b[39m1\u001b[39;49m)\n\u001b[1;32m    271\u001b[0m \u001b[39mif\u001b[39;00m \u001b[39misinstance\u001b[39m(app_name, BaseCommand):\n\u001b[1;32m    272\u001b[0m     \u001b[39m# If the command is already loaded, use it directly.\u001b[39;00m\n",
      "\u001b[0;31mSystemExit\u001b[0m: 1",
      "\nDuring handling of the above exception, another exception occurred:\n",
      "\u001b[0;31mAttributeError\u001b[0m                            Traceback (most recent call last)",
      "    \u001b[0;31m[... skipping hidden 1 frame]\u001b[0m\n",
      "File \u001b[0;32m~/.pyenv/versions/3.10.9/envs/litdjango/lib/python3.10/site-packages/IPython/core/interactiveshell.py:2095\u001b[0m, in \u001b[0;36mInteractiveShell.showtraceback\u001b[0;34m(self, exc_tuple, filename, tb_offset, exception_only, running_compiled_code)\u001b[0m\n\u001b[1;32m   2092\u001b[0m \u001b[39mif\u001b[39;00m exception_only:\n\u001b[1;32m   2093\u001b[0m     stb \u001b[39m=\u001b[39m [\u001b[39m'\u001b[39m\u001b[39mAn exception has occurred, use \u001b[39m\u001b[39m%\u001b[39m\u001b[39mtb to see \u001b[39m\u001b[39m'\u001b[39m\n\u001b[1;32m   2094\u001b[0m            \u001b[39m'\u001b[39m\u001b[39mthe full traceback.\u001b[39m\u001b[39m\\n\u001b[39;00m\u001b[39m'\u001b[39m]\n\u001b[0;32m-> 2095\u001b[0m     stb\u001b[39m.\u001b[39mextend(\u001b[39mself\u001b[39;49m\u001b[39m.\u001b[39;49mInteractiveTB\u001b[39m.\u001b[39;49mget_exception_only(etype,\n\u001b[1;32m   2096\u001b[0m                                                      value))\n\u001b[1;32m   2097\u001b[0m \u001b[39melse\u001b[39;00m:\n\u001b[1;32m   2098\u001b[0m     \u001b[39mtry\u001b[39;00m:\n\u001b[1;32m   2099\u001b[0m         \u001b[39m# Exception classes can customise their traceback - we\u001b[39;00m\n\u001b[1;32m   2100\u001b[0m         \u001b[39m# use this in IPython.parallel for exceptions occurring\u001b[39;00m\n\u001b[1;32m   2101\u001b[0m         \u001b[39m# in the engines. This should return a list of strings.\u001b[39;00m\n",
      "File \u001b[0;32m~/.pyenv/versions/3.10.9/envs/litdjango/lib/python3.10/site-packages/IPython/core/ultratb.py:696\u001b[0m, in \u001b[0;36mListTB.get_exception_only\u001b[0;34m(self, etype, value)\u001b[0m\n\u001b[1;32m    688\u001b[0m \u001b[39mdef\u001b[39;00m \u001b[39mget_exception_only\u001b[39m(\u001b[39mself\u001b[39m, etype, value):\n\u001b[1;32m    689\u001b[0m \u001b[39m    \u001b[39m\u001b[39m\"\"\"Only print the exception type and message, without a traceback.\u001b[39;00m\n\u001b[1;32m    690\u001b[0m \n\u001b[1;32m    691\u001b[0m \u001b[39m    Parameters\u001b[39;00m\n\u001b[0;32m   (...)\u001b[0m\n\u001b[1;32m    694\u001b[0m \u001b[39m    value : exception value\u001b[39;00m\n\u001b[1;32m    695\u001b[0m \u001b[39m    \"\"\"\u001b[39;00m\n\u001b[0;32m--> 696\u001b[0m     \u001b[39mreturn\u001b[39;00m ListTB\u001b[39m.\u001b[39;49mstructured_traceback(\u001b[39mself\u001b[39;49m, etype, value)\n",
      "File \u001b[0;32m~/.pyenv/versions/3.10.9/envs/litdjango/lib/python3.10/site-packages/IPython/core/ultratb.py:559\u001b[0m, in \u001b[0;36mListTB.structured_traceback\u001b[0;34m(self, etype, evalue, etb, tb_offset, context)\u001b[0m\n\u001b[1;32m    556\u001b[0m     chained_exc_ids\u001b[39m.\u001b[39madd(\u001b[39mid\u001b[39m(exception[\u001b[39m1\u001b[39m]))\n\u001b[1;32m    557\u001b[0m     chained_exceptions_tb_offset \u001b[39m=\u001b[39m \u001b[39m0\u001b[39m\n\u001b[1;32m    558\u001b[0m     out_list \u001b[39m=\u001b[39m (\n\u001b[0;32m--> 559\u001b[0m         \u001b[39mself\u001b[39;49m\u001b[39m.\u001b[39;49mstructured_traceback(\n\u001b[1;32m    560\u001b[0m             etype,\n\u001b[1;32m    561\u001b[0m             evalue,\n\u001b[1;32m    562\u001b[0m             (etb, chained_exc_ids),  \u001b[39m# type: ignore\u001b[39;49;00m\n\u001b[1;32m    563\u001b[0m             chained_exceptions_tb_offset,\n\u001b[1;32m    564\u001b[0m             context,\n\u001b[1;32m    565\u001b[0m         )\n\u001b[1;32m    566\u001b[0m         \u001b[39m+\u001b[39m chained_exception_message\n\u001b[1;32m    567\u001b[0m         \u001b[39m+\u001b[39m out_list)\n\u001b[1;32m    569\u001b[0m \u001b[39mreturn\u001b[39;00m out_list\n",
      "File \u001b[0;32m~/.pyenv/versions/3.10.9/envs/litdjango/lib/python3.10/site-packages/IPython/core/ultratb.py:1396\u001b[0m, in \u001b[0;36mAutoFormattedTB.structured_traceback\u001b[0;34m(self, etype, evalue, etb, tb_offset, number_of_lines_of_context)\u001b[0m\n\u001b[1;32m   1394\u001b[0m \u001b[39melse\u001b[39;00m:\n\u001b[1;32m   1395\u001b[0m     \u001b[39mself\u001b[39m\u001b[39m.\u001b[39mtb \u001b[39m=\u001b[39m etb\n\u001b[0;32m-> 1396\u001b[0m \u001b[39mreturn\u001b[39;00m FormattedTB\u001b[39m.\u001b[39;49mstructured_traceback(\n\u001b[1;32m   1397\u001b[0m     \u001b[39mself\u001b[39;49m, etype, evalue, etb, tb_offset, number_of_lines_of_context\n\u001b[1;32m   1398\u001b[0m )\n",
      "File \u001b[0;32m~/.pyenv/versions/3.10.9/envs/litdjango/lib/python3.10/site-packages/IPython/core/ultratb.py:1287\u001b[0m, in \u001b[0;36mFormattedTB.structured_traceback\u001b[0;34m(self, etype, value, tb, tb_offset, number_of_lines_of_context)\u001b[0m\n\u001b[1;32m   1284\u001b[0m mode \u001b[39m=\u001b[39m \u001b[39mself\u001b[39m\u001b[39m.\u001b[39mmode\n\u001b[1;32m   1285\u001b[0m \u001b[39mif\u001b[39;00m mode \u001b[39min\u001b[39;00m \u001b[39mself\u001b[39m\u001b[39m.\u001b[39mverbose_modes:\n\u001b[1;32m   1286\u001b[0m     \u001b[39m# Verbose modes need a full traceback\u001b[39;00m\n\u001b[0;32m-> 1287\u001b[0m     \u001b[39mreturn\u001b[39;00m VerboseTB\u001b[39m.\u001b[39;49mstructured_traceback(\n\u001b[1;32m   1288\u001b[0m         \u001b[39mself\u001b[39;49m, etype, value, tb, tb_offset, number_of_lines_of_context\n\u001b[1;32m   1289\u001b[0m     )\n\u001b[1;32m   1290\u001b[0m \u001b[39melif\u001b[39;00m mode \u001b[39m==\u001b[39m \u001b[39m'\u001b[39m\u001b[39mMinimal\u001b[39m\u001b[39m'\u001b[39m:\n\u001b[1;32m   1291\u001b[0m     \u001b[39mreturn\u001b[39;00m ListTB\u001b[39m.\u001b[39mget_exception_only(\u001b[39mself\u001b[39m, etype, value)\n",
      "File \u001b[0;32m~/.pyenv/versions/3.10.9/envs/litdjango/lib/python3.10/site-packages/IPython/core/ultratb.py:1140\u001b[0m, in \u001b[0;36mVerboseTB.structured_traceback\u001b[0;34m(self, etype, evalue, etb, tb_offset, number_of_lines_of_context)\u001b[0m\n\u001b[1;32m   1131\u001b[0m \u001b[39mdef\u001b[39;00m \u001b[39mstructured_traceback\u001b[39m(\n\u001b[1;32m   1132\u001b[0m     \u001b[39mself\u001b[39m,\n\u001b[1;32m   1133\u001b[0m     etype: \u001b[39mtype\u001b[39m,\n\u001b[0;32m   (...)\u001b[0m\n\u001b[1;32m   1137\u001b[0m     number_of_lines_of_context: \u001b[39mint\u001b[39m \u001b[39m=\u001b[39m \u001b[39m5\u001b[39m,\n\u001b[1;32m   1138\u001b[0m ):\n\u001b[1;32m   1139\u001b[0m \u001b[39m    \u001b[39m\u001b[39m\"\"\"Return a nice text document describing the traceback.\"\"\"\u001b[39;00m\n\u001b[0;32m-> 1140\u001b[0m     formatted_exception \u001b[39m=\u001b[39m \u001b[39mself\u001b[39;49m\u001b[39m.\u001b[39;49mformat_exception_as_a_whole(etype, evalue, etb, number_of_lines_of_context,\n\u001b[1;32m   1141\u001b[0m                                                            tb_offset)\n\u001b[1;32m   1143\u001b[0m     colors \u001b[39m=\u001b[39m \u001b[39mself\u001b[39m\u001b[39m.\u001b[39mColors  \u001b[39m# just a shorthand + quicker name lookup\u001b[39;00m\n\u001b[1;32m   1144\u001b[0m     colorsnormal \u001b[39m=\u001b[39m colors\u001b[39m.\u001b[39mNormal  \u001b[39m# used a lot\u001b[39;00m\n",
      "File \u001b[0;32m~/.pyenv/versions/3.10.9/envs/litdjango/lib/python3.10/site-packages/IPython/core/ultratb.py:1030\u001b[0m, in \u001b[0;36mVerboseTB.format_exception_as_a_whole\u001b[0;34m(self, etype, evalue, etb, number_of_lines_of_context, tb_offset)\u001b[0m\n\u001b[1;32m   1027\u001b[0m \u001b[39massert\u001b[39;00m \u001b[39misinstance\u001b[39m(tb_offset, \u001b[39mint\u001b[39m)\n\u001b[1;32m   1028\u001b[0m head \u001b[39m=\u001b[39m \u001b[39mself\u001b[39m\u001b[39m.\u001b[39mprepare_header(\u001b[39mstr\u001b[39m(etype), \u001b[39mself\u001b[39m\u001b[39m.\u001b[39mlong_header)\n\u001b[1;32m   1029\u001b[0m records \u001b[39m=\u001b[39m (\n\u001b[0;32m-> 1030\u001b[0m     \u001b[39mself\u001b[39;49m\u001b[39m.\u001b[39;49mget_records(etb, number_of_lines_of_context, tb_offset) \u001b[39mif\u001b[39;00m etb \u001b[39melse\u001b[39;00m []\n\u001b[1;32m   1031\u001b[0m )\n\u001b[1;32m   1033\u001b[0m frames \u001b[39m=\u001b[39m []\n\u001b[1;32m   1034\u001b[0m skipped \u001b[39m=\u001b[39m \u001b[39m0\u001b[39m\n",
      "File \u001b[0;32m~/.pyenv/versions/3.10.9/envs/litdjango/lib/python3.10/site-packages/IPython/core/ultratb.py:1098\u001b[0m, in \u001b[0;36mVerboseTB.get_records\u001b[0;34m(self, etb, number_of_lines_of_context, tb_offset)\u001b[0m\n\u001b[1;32m   1096\u001b[0m \u001b[39mwhile\u001b[39;00m cf \u001b[39mis\u001b[39;00m \u001b[39mnot\u001b[39;00m \u001b[39mNone\u001b[39;00m:\n\u001b[1;32m   1097\u001b[0m     \u001b[39mtry\u001b[39;00m:\n\u001b[0;32m-> 1098\u001b[0m         mod \u001b[39m=\u001b[39m inspect\u001b[39m.\u001b[39mgetmodule(cf\u001b[39m.\u001b[39;49mtb_frame)\n\u001b[1;32m   1099\u001b[0m         \u001b[39mif\u001b[39;00m mod \u001b[39mis\u001b[39;00m \u001b[39mnot\u001b[39;00m \u001b[39mNone\u001b[39;00m:\n\u001b[1;32m   1100\u001b[0m             mod_name \u001b[39m=\u001b[39m mod\u001b[39m.\u001b[39m\u001b[39m__name__\u001b[39m\n",
      "\u001b[0;31mAttributeError\u001b[0m: 'tuple' object has no attribute 'tb_frame'"
     ]
    }
   ],
   "source": [
    "#| export\n",
    "def cli():\n",
    "    \"\"\"This is set as entrypoint of the litdjango command in the package's setup.py\"\"\"\n",
    "    utility = LitManagementUtility(sys.argv)\n",
    "    utility.execute()"
   ]
  },
  {
   "cell_type": "code",
   "execution_count": null,
   "metadata": {},
   "outputs": [],
   "source": []
  },
  {
   "cell_type": "code",
   "execution_count": null,
   "metadata": {},
   "outputs": [
    {
     "name": "stdout",
     "output_type": "stream",
     "text": [
      "usage: litdjango startproject [-h] [--template TEMPLATE]\n",
      "                              [--extension EXTENSIONS] [--name FILES]\n",
      "                              [--exclude [EXCLUDE]] [--version] [-v {0,1,2,3}]\n",
      "                              [--settings SETTINGS] [--pythonpath PYTHONPATH]\n",
      "                              [--traceback] [--no-color] [--force-color]\n",
      "                              name [directory]\n",
      "\n",
      "Help from lit django. Creates a Django project directory structure for the\n",
      "given project name in the current directory or optionally in the given\n",
      "directory.\n",
      "\n",
      "positional arguments:\n",
      "  name                  Name of the application or project.\n",
      "  directory             Optional destination directory\n",
      "\n",
      "options:\n",
      "  -h, --help            show this help message and exit\n",
      "  --template TEMPLATE   The path or URL to load the template from.\n",
      "  --extension EXTENSIONS, -e EXTENSIONS\n",
      "                        The file extension(s) to render (default: \"py\").\n",
      "                        Separate multiple extensions with commas, or use -e\n",
      "                        multiple times.\n",
      "  --name FILES, -n FILES\n",
      "                        The file name(s) to render. Separate multiple file\n",
      "                        names with commas, or use -n multiple times.\n",
      "  --exclude [EXCLUDE], -x [EXCLUDE]\n",
      "                        The directory name(s) to exclude, in addition to .git\n",
      "                        and __pycache__. Can be used multiple times.\n",
      "  --version             Show program's version number and exit.\n",
      "  -v {0,1,2,3}, --verbosity {0,1,2,3}\n",
      "                        Verbosity level; 0=minimal output, 1=normal output,\n",
      "                        2=verbose output, 3=very verbose output\n",
      "  --settings SETTINGS   The Python path to a settings module, e.g.\n",
      "                        \"myproject.settings.main\". If this isn't provided, the\n",
      "                        DJANGO_SETTINGS_MODULE environment variable will be\n",
      "                        used.\n",
      "  --pythonpath PYTHONPATH\n",
      "                        A directory to add to the Python path, e.g.\n",
      "                        \"/home/djangoprojects/myproject\".\n",
      "  --traceback           Raise on CommandError exceptions.\n",
      "  --no-color            Don't colorize the command output.\n",
      "  --force-color         Force colorization of the command output.\n"
     ]
    }
   ],
   "source": [
    "!litdjango startproject --help"
   ]
  },
  {
   "attachments": {},
   "cell_type": "markdown",
   "metadata": {},
   "source": [
    "<!--  -->"
   ]
  }
 ],
 "metadata": {
  "kernelspec": {
   "display_name": "python3",
   "language": "python",
   "name": "python3"
  }
 },
 "nbformat": 4,
 "nbformat_minor": 2
}
