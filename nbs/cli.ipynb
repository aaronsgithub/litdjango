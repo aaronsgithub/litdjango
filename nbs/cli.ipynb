{
 "cells": [
  {
   "attachments": {},
   "cell_type": "markdown",
   "metadata": {},
   "source": [
    "# The litdjango CLI"
   ]
  },
  {
   "attachments": {},
   "cell_type": "markdown",
   "metadata": {},
   "source": [
    "\n",
    "In order to adapt Django to a literate programming style using Jupyter notebooks, we need to\n",
    "reimplement any builtin `django-admin` and `manage.py` cli commands which produce `.py` modules\n",
    "into commands which produce `.ipynb` files."
   ]
  },
  {
   "cell_type": "code",
   "execution_count": null,
   "metadata": {},
   "outputs": [],
   "source": [
    "#| default_exp cli"
   ]
  },
  {
   "cell_type": "code",
   "execution_count": null,
   "metadata": {},
   "outputs": [],
   "source": [
    "#| hide\n",
    "from nbdev.showdoc import *"
   ]
  },
  {
   "cell_type": "code",
   "execution_count": null,
   "metadata": {},
   "outputs": [],
   "source": [
    "#| export\n",
    "from collections import defaultdict\n",
    "import sys\n",
    "\n",
    "import django\n",
    "from django.conf import settings\n",
    "from django.core.management import ManagementUtility, get_commands\n",
    "from django.core.management.base import BaseCommand\n",
    "from django.core.management.color import color_style\n",
    "from django.core.management.commands.startapp import Command as StartApp\n",
    "from django.core.management.commands.startproject import Command as StartProject\n",
    "from nbdev.export import nb_export\n",
    "from pathlib import Path\n",
    "\n",
    "from litdjango.utils import LITDJANGO_ROOT, get_project_config, get_project_root"
   ]
  },
  {
   "attachments": {},
   "cell_type": "markdown",
   "metadata": {},
   "source": [
    "## Subcommands"
   ]
  },
  {
   "attachments": {},
   "cell_type": "markdown",
   "metadata": {},
   "source": [
    "#### `litdjango startproject`"
   ]
  },
  {
   "cell_type": "code",
   "execution_count": null,
   "metadata": {},
   "outputs": [],
   "source": [
    "#| export\n",
    "class StartProject(StartProject):\n",
    "    rewrite_template_suffixes = (('.py-tpl', '.py'), (('.ipynb-tpl', '.ipynb')))\n",
    "\n",
    "    def handle(self, **options):\n",
    "        options[\"template\"] = str(LITDJANGO_ROOT / \"templates\" / \"project_template\")\n",
    "        options[\"extensions\"] = ['py', 'txt', 'ipynb', 'ini']\n",
    "        super().handle(**options)"
   ]
  },
  {
   "cell_type": "code",
   "execution_count": null,
   "metadata": {},
   "outputs": [],
   "source": [
    "import os\n",
    "from pathlib import Path\n",
    "import subprocess\n",
    "import shutil"
   ]
  },
  {
   "cell_type": "code",
   "execution_count": null,
   "metadata": {},
   "outputs": [
    {
     "data": {
      "text/plain": [
       "Path('/home/aaron/projects/litdjango/litdjango/nbs')"
      ]
     },
     "execution_count": null,
     "metadata": {},
     "output_type": "execute_result"
    }
   ],
   "source": [
    "cwd = Path.cwd()\n",
    "cwd"
   ]
  },
  {
   "cell_type": "code",
   "execution_count": null,
   "metadata": {},
   "outputs": [],
   "source": [
    "project_name = \"ldsp\"\n",
    "project_dir = cwd.parent.parent / \"litdjango_test\" / project_name # TODO refactor this into temp directory"
   ]
  },
  {
   "cell_type": "code",
   "execution_count": null,
   "metadata": {},
   "outputs": [
    {
     "name": "stdout",
     "output_type": "stream",
     "text": [
      "\u001b[01;34m.\u001b[0m\n",
      "├── \u001b[01;34mldsp\u001b[0m\n",
      "├── \u001b[01;34mnbs\u001b[0m\n",
      "│   ├── \u001b[01;34mconfig\u001b[0m\n",
      "│   │   ├── asgi.ipynb\n",
      "│   │   ├── settings.ipynb\n",
      "│   │   ├── urls.ipynb\n",
      "│   │   └── wsgi.ipynb\n",
      "│   └── manage.ipynb\n",
      "└── settings.ini\n",
      "\n",
      "3 directories, 6 files\n"
     ]
    }
   ],
   "source": [
    "if project_dir.exists():\n",
    "    shutil.rmtree(project_dir)\n",
    "project_dir.mkdir(exist_ok=True)\n",
    "os.chdir(project_dir)\n",
    "subprocess.check_call([\"litdjango\", \"startproject\", project_name, \".\"])\n",
    "subprocess.check_call([\"tree\", \"-I\", \"__pycache__\"])\n",
    "os.chdir(cwd)\n",
    "shutil.rmtree(project_dir)"
   ]
  },
  {
   "attachments": {},
   "cell_type": "markdown",
   "metadata": {},
   "source": [
    "#### `litdjango export`"
   ]
  },
  {
   "cell_type": "code",
   "execution_count": null,
   "metadata": {},
   "outputs": [],
   "source": [
    "#| export\n",
    "class Export(BaseCommand):\n",
    "    help = \"Export .ipynb notebooks to .py modules\"\n",
    "    requires_system_checks = []\n",
    "    \n",
    "    def handle(self, *args, **options):\n",
    "        if not settings.configured:\n",
    "            settings.configure()\n",
    "            django.setup()\n",
    "        self.stdout.write(\"Exporting...\")\n",
    "        path = Path.cwd()\n",
    "        cfg = get_project_config(path)\n",
    "        project_root = get_project_root(path)\n",
    "        lib_path = project_root / cfg[\"lib_name\"]\n",
    "        nbs_path = project_root / cfg[\"nbs_path\"]\n",
    "        notebooks = [nb for nb in nbs_path.glob(\"**/*.ipynb\")]\n",
    "        for nb in notebooks: nb_export(nb, lib_path)"
   ]
  },
  {
   "cell_type": "code",
   "execution_count": null,
   "metadata": {},
   "outputs": [
    {
     "name": "stdout",
     "output_type": "stream",
     "text": [
      "Exporting...\n",
      "\u001b[01;34m/home/aaron/projects/litdjango/litdjango_test/ldsp\u001b[0m\n",
      "├── \u001b[01;34mldsp\u001b[0m\n",
      "│   ├── \u001b[01;34mconfig\u001b[0m\n",
      "│   │   ├── asgi.py\n",
      "│   │   ├── settings.py\n",
      "│   │   ├── urls.py\n",
      "│   │   └── wsgi.py\n",
      "│   └── manage.py\n",
      "├── \u001b[01;34mnbs\u001b[0m\n",
      "│   ├── \u001b[01;34mconfig\u001b[0m\n",
      "│   │   ├── asgi.ipynb\n",
      "│   │   ├── settings.ipynb\n",
      "│   │   ├── urls.ipynb\n",
      "│   │   └── wsgi.ipynb\n",
      "│   └── manage.ipynb\n",
      "└── settings.ini\n",
      "\n",
      "4 directories, 11 files\n",
      "System check identified no issues (0 silenced).\n"
     ]
    }
   ],
   "source": [
    "if project_dir.exists():\n",
    "    shutil.rmtree(project_dir)\n",
    "project_dir = cwd.parent.parent / \"litdjango_test/ldsp\"\n",
    "project_dir.mkdir(exist_ok=True)\n",
    "os.chdir(project_dir)\n",
    "subprocess.check_call([\"litdjango\", \"startproject\", \"ldsp\", \".\"])\n",
    "subprocess.check_call([\"litdjango\", \"export\"])\n",
    "subprocess.check_call([\"tree\", \"-I\", \"__pycache__\", str(project_dir)])\n",
    "subprocess.check_call([\"python\", f\"{project_name}/manage.py\", \"check\"])\n",
    "os.chdir(cwd)\n",
    "shutil.rmtree(project_dir)"
   ]
  },
  {
   "attachments": {},
   "cell_type": "markdown",
   "metadata": {},
   "source": [
    "#### `litdjango startapp`"
   ]
  },
  {
   "cell_type": "code",
   "execution_count": null,
   "metadata": {},
   "outputs": [],
   "source": [
    "#| export\n",
    "class StartApp(StartApp):\n",
    "    pass"
   ]
  },
  {
   "attachments": {},
   "cell_type": "markdown",
   "metadata": {},
   "source": [
    "## Register subcommands with the cli"
   ]
  },
  {
   "cell_type": "code",
   "execution_count": null,
   "metadata": {},
   "outputs": [],
   "source": [
    "#| exporti\n",
    "lit_commands = {\n",
    "    \"startapp\": StartApp(), # overrides django default\n",
    "    \"export\": Export(), # new command\n",
    "    \"startproject\": StartProject() #overrides django default\n",
    "}"
   ]
  },
  {
   "cell_type": "code",
   "execution_count": null,
   "metadata": {},
   "outputs": [],
   "source": [
    "#| export\n",
    "class LitManagementUtility(ManagementUtility):\n",
    "    \"\"\"The litdjango cli is an instance of this class\n",
    "    \n",
    "    We use the lit_commands dict as a container for new litdjango commands, or \n",
    "    overridden django commands, and fallback to the default django command for anything\n",
    "    else.\n",
    "    \"\"\"\n",
    "    def __init__(self, argv=None):\n",
    "        super().__init__(argv)\n",
    "        \n",
    "    def main_help_text(self, commands_only=False):\n",
    "        \"\"\"Return the script's main help text, as a string.\"\"\"\n",
    "        if commands_only:\n",
    "            usage = sorted(set(get_commands()) | set(lit_commands))  # overwrite django\n",
    "        else:\n",
    "            usage = [\n",
    "                \"\",\n",
    "                \"Type '%s help <subcommand>' for help on a specific subcommand.\" % self.prog_name,\n",
    "                \"\",\n",
    "                \"Available subcommands:\",           \n",
    "                ]\n",
    "            commands_dict = defaultdict(lambda: []) \n",
    "            commands_dict[\"litdjango\"] = sorted(lit_commands.keys())\n",
    "            for name, app in get_commands().items():\n",
    "                if app == \"django.core\":\n",
    "                    if name in lit_commands.keys():\n",
    "                        continue\n",
    "                    else:\n",
    "                        app = \"django\"\n",
    "                else:\n",
    "                    app = app.rpartition(\".\")[-1]\n",
    "                commands_dict[app].append(name)\n",
    "            style = color_style()\n",
    "            for app in sorted(commands_dict):\n",
    "                usage.append(\"\")\n",
    "                usage.append(style.NOTICE(\"[%s]\" % app))\n",
    "                for name in sorted(commands_dict[app]):\n",
    "                    usage.append(\"    %s\" % name)\n",
    "            # Output an extra note if settings are not properly configured\n",
    "            if self.settings_exception is not None:\n",
    "                usage.append(\n",
    "                    style.NOTICE(\n",
    "                        \"Note that only Django core commands are listed \"\n",
    "                        \"as settings are not properly configured (error: %s).\"\n",
    "                        % self.settings_exception\n",
    "                    )\n",
    "                )\n",
    "        return \"\\n\".join(usage)\n",
    "\n",
    "    def fetch_command(self, subcommand):\n",
    "        \"\"\"Use lit_commands version if it exists, otherwise fallback to django commands\"\"\"\n",
    "        try: # find a lit_command version of the command\n",
    "            return lit_commands[subcommand]\n",
    "        except KeyError:\n",
    "            # Fall back to default django  if we have not defined a custom command\n",
    "            return super().fetch_command(subcommand)"
   ]
  },
  {
   "cell_type": "code",
   "execution_count": null,
   "metadata": {},
   "outputs": [],
   "source": [
    "#| export\n",
    "def cli():\n",
    "    \"\"\"This is set as entrypoint of the litdjango command in the package's setup.py\"\"\"\n",
    "    utility = LitManagementUtility(sys.argv)\n",
    "    utility.execute()"
   ]
  },
  {
   "cell_type": "code",
   "execution_count": null,
   "metadata": {},
   "outputs": [
    {
     "name": "stdout",
     "output_type": "stream",
     "text": [
      "usage: litdjango startproject [-h] [--template TEMPLATE]\n",
      "                              [--extension EXTENSIONS] [--name FILES]\n",
      "                              [--exclude [EXCLUDE]] [--version] [-v {0,1,2,3}]\n",
      "                              [--settings SETTINGS] [--pythonpath PYTHONPATH]\n",
      "                              [--traceback] [--no-color] [--force-color]\n",
      "                              name [directory]\n",
      "\n",
      "Creates a Django project directory structure for the given project name in the\n",
      "current directory or optionally in the given directory.\n",
      "\n",
      "positional arguments:\n",
      "  name                  Name of the application or project.\n",
      "  directory             Optional destination directory\n",
      "\n",
      "options:\n",
      "  -h, --help            show this help message and exit\n",
      "  --template TEMPLATE   The path or URL to load the template from.\n",
      "  --extension EXTENSIONS, -e EXTENSIONS\n",
      "                        The file extension(s) to render (default: \"py\").\n",
      "                        Separate multiple extensions with commas, or use -e\n",
      "                        multiple times.\n",
      "  --name FILES, -n FILES\n",
      "                        The file name(s) to render. Separate multiple file\n",
      "                        names with commas, or use -n multiple times.\n",
      "  --exclude [EXCLUDE], -x [EXCLUDE]\n",
      "                        The directory name(s) to exclude, in addition to .git\n",
      "                        and __pycache__. Can be used multiple times.\n",
      "  --version             Show program's version number and exit.\n",
      "  -v {0,1,2,3}, --verbosity {0,1,2,3}\n",
      "                        Verbosity level; 0=minimal output, 1=normal output,\n",
      "                        2=verbose output, 3=very verbose output\n",
      "  --settings SETTINGS   The Python path to a settings module, e.g.\n",
      "                        \"myproject.settings.main\". If this isn't provided, the\n",
      "                        DJANGO_SETTINGS_MODULE environment variable will be\n",
      "                        used.\n",
      "  --pythonpath PYTHONPATH\n",
      "                        A directory to add to the Python path, e.g.\n",
      "                        \"/home/djangoprojects/myproject\".\n",
      "  --traceback           Raise on CommandError exceptions.\n",
      "  --no-color            Don't colorize the command output.\n",
      "  --force-color         Force colorization of the command output.\n"
     ]
    }
   ],
   "source": [
    "!litdjango startproject --help"
   ]
  },
  {
   "attachments": {},
   "cell_type": "markdown",
   "metadata": {},
   "source": [
    "<!--  -->"
   ]
  }
 ],
 "metadata": {
  "kernelspec": {
   "display_name": "python3",
   "language": "python",
   "name": "python3"
  }
 },
 "nbformat": 4,
 "nbformat_minor": 2
}
