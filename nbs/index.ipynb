{
 "cells": [
  {
   "attachments": {},
   "cell_type": "markdown",
   "metadata": {},
   "source": [
    "# Getting Started\n",
    "\n",
    "> A literate programming dialect of Django"
   ]
  },
  {
   "attachments": {},
   "cell_type": "markdown",
   "metadata": {},
   "source": [
    "This is a work in progress..."
   ]
  },
  {
   "attachments": {},
   "cell_type": "markdown",
   "metadata": {},
   "source": [
    "## Start a project\n",
    "\n",
    "```litdjango startproject <projectname>```\n",
    "\n",
    "The default project template mostly resembles the default django project template.\n",
    "\n",
    "A regular Django project created with `django-admin startproject <project-name>` will have the following directory structure:\n",
    "```\n",
    "<project-name>\n",
    "├── manage.py\n",
    "└── <project-name>\n",
    "    ├── __init__.py\n",
    "    ├── asgi.py\n",
    "    ├── settings.py\n",
    "    ├── urls.py\n",
    "    └── wsgi.py\n",
    "\n",
    "```\n",
    "By default `manage.py`, `asgi.py`, `wsgi.py` and `settings.py` files all hardcode the path of the settings module which is dependent on the `<project-name>`.\n",
    "\n",
    "This is unfortunate because if you decide to change the name of your project (which might not be set in stone at the beginning of a project), and you want the name change to reflected in the code then you have to update each of these references.\n",
    "\n",
    "For this reason we have removed this reference to the project name by renaming the inner <project-name> directory to `config`, and updated the path to the settings file in each file accordingly:\n",
    "```\n",
    "testproject/\n",
    "├── nbs\n",
    "│   ├── config\n",
    "│   │   ├── asgi.ipynb\n",
    "│   │   ├── settings.ipynb\n",
    "│   │   ├── urls.ipynb\n",
    "│   │   └── wsgi.ipynb\n",
    "│   └── manage.ipynb\n",
    "└── <project-name>\n",
    "    # build your django project by editing nbs\n",
    "    # a build command will output regular python modules in this directory\n",
    "```"
   ]
  },
  {
   "attachments": {},
   "cell_type": "markdown",
   "metadata": {},
   "source": []
  }
 ],
 "metadata": {
  "kernelspec": {
   "display_name": "python3",
   "language": "python",
   "name": "python3"
  }
 },
 "nbformat": 4,
 "nbformat_minor": 4
}
